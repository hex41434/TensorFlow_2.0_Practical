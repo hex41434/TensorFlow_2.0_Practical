{
  "nbformat": 4,
  "nbformat_minor": 0,
  "metadata": {
    "colab": {
      "name": "1. Develop A Single Neuron Model to Convert C to F.ipynb",
      "provenance": [],
      "collapsed_sections": [],
      "include_colab_link": true
    },
    "kernelspec": {
      "name": "python3",
      "display_name": "Python 3"
    },
    "accelerator": "GPU"
  },
  "cells": [
    {
      "cell_type": "markdown",
      "metadata": {
        "id": "view-in-github",
        "colab_type": "text"
      },
      "source": [
        "<a href=\"https://colab.research.google.com/github/cailyn-craven/TensorFlow_2.0_Practical/blob/master/1_Develop_A_Single_Neuron_Model_to_Convert_C_to_F.ipynb\" target=\"_parent\"><img src=\"https://colab.research.google.com/assets/colab-badge.svg\" alt=\"Open In Colab\"/></a>"
      ]
    },
    {
      "cell_type": "markdown",
      "metadata": {
        "id": "M27qF7CTrBqc",
        "colab_type": "text"
      },
      "source": [
        "# PROBLEM STATEMENT"
      ]
    },
    {
      "cell_type": "markdown",
      "metadata": {
        "id": "iCj2rwwHBB1I",
        "colab_type": "text"
      },
      "source": [
        "\n",
        "- In this project, we will build a simple machine learning model to convert from celsius to fahrenheit. \n",
        "- The equation is as follows: **T(°F) = T(°C) × 9/5 + 32**\n",
        "- For Example, let's convert 0°C celsius temperature to Fahrenheit:  **(0°C × 9/5) + 32 = 32°F**\n"
      ]
    },
    {
      "cell_type": "markdown",
      "metadata": {
        "id": "Z2ZMlH-gtOxf",
        "colab_type": "text"
      },
      "source": [
        "\n",
        "<table>\n",
        "  <tr><td>\n",
        "    <img src=\"https://upload.wikimedia.org/wikipedia/commons/7/70/Thermometer_CF.svg\"\n",
        "         alt=\"Fashion MNIST sprite\"  width=\"600\">\n",
        "  </td></tr>\n",
        "  <tr><td align=\"center\">\n",
        "    <b>Figure 1. Convert Celsius to Fahrenheit [Image Source: https://commons.wikimedia.org/wiki/File:Thermometer_CF.svg]\n",
        "  </td></tr>\n",
        "</table>\n"
      ]
    },
    {
      "cell_type": "markdown",
      "metadata": {
        "id": "zKmFmyaGunc7",
        "colab_type": "text"
      },
      "source": [
        "# STEP #0: IMPORT LIBRARIES"
      ]
    },
    {
      "cell_type": "code",
      "metadata": {
        "id": "S0Cx3743urFY",
        "colab_type": "code",
        "colab": {}
      },
      "source": [
        "!pip install tensorflow-gpu==2.0.0.alpha0\n",
        "import tensorflow as tf\n",
        "import pandas as pd\n",
        "import numpy as np\n",
        "import seaborn as sns\n",
        "import matplotlib.pyplot as plt"
      ],
      "execution_count": 0,
      "outputs": []
    },
    {
      "cell_type": "markdown",
      "metadata": {
        "id": "uAE6Icc0uylP",
        "colab_type": "text"
      },
      "source": [
        "# STEP #1: IMPORT DATASETS"
      ]
    },
    {
      "cell_type": "code",
      "metadata": {
        "id": "5P_ciLXawMZg",
        "colab_type": "code",
        "colab": {}
      },
      "source": [
        "# You will need to mount your drive using the following commands:\n",
        "# For more information regarding mounting, please check this out: https://stackoverflow.com/questions/46986398/import-data-into-google-colaboratory\n",
        "\n",
        "from google.colab import drive\n",
        "drive.mount('/content/drive')"
      ],
      "execution_count": 0,
      "outputs": []
    },
    {
      "cell_type": "code",
      "metadata": {
        "id": "tjIiJdM4u1IE",
        "colab_type": "code",
        "colab": {}
      },
      "source": [
        "# You have to include the full link to the csv file containing your dataset\n",
        "Temperature_df = pd.read_csv('/content/drive/My Drive/Colab Notebooks/Celsius to Fahrenheit.csv')\n",
        "Temperature_df.reset_index(drop=True, inplace=True)\n",
        "\n"
      ],
      "execution_count": 0,
      "outputs": []
    },
    {
      "cell_type": "code",
      "metadata": {
        "id": "q4_wPDKCu5Uc",
        "colab_type": "code",
        "colab": {}
      },
      "source": [
        "Temperature_df"
      ],
      "execution_count": 0,
      "outputs": []
    },
    {
      "cell_type": "code",
      "metadata": {
        "id": "E7puy9-xxS4A",
        "colab_type": "code",
        "colab": {}
      },
      "source": [
        "Temperature_df.head(5)"
      ],
      "execution_count": 0,
      "outputs": []
    },
    {
      "cell_type": "code",
      "metadata": {
        "id": "RUt2ON_UxyYk",
        "colab_type": "code",
        "colab": {}
      },
      "source": [
        "Temperature_df.tail(10)"
      ],
      "execution_count": 0,
      "outputs": []
    },
    {
      "cell_type": "code",
      "metadata": {
        "id": "hMq3-KWOx0e1",
        "colab_type": "code",
        "colab": {}
      },
      "source": [
        "Temperature_df.info()"
      ],
      "execution_count": 0,
      "outputs": []
    },
    {
      "cell_type": "code",
      "metadata": {
        "id": "s0E9xPLdx2Ok",
        "colab_type": "code",
        "colab": {}
      },
      "source": [
        "Temperature_df.describe()"
      ],
      "execution_count": 0,
      "outputs": []
    },
    {
      "cell_type": "markdown",
      "metadata": {
        "id": "LlszUhNNyrl_",
        "colab_type": "text"
      },
      "source": [
        "# STEP #2: VISUALIZE DATASET"
      ]
    },
    {
      "cell_type": "code",
      "metadata": {
        "id": "TYcWopZVyvAs",
        "colab_type": "code",
        "colab": {}
      },
      "source": [
        "sns.scatterplot(Temperature_df['Celsius'], Temperature_df['Fahrenheit'])"
      ],
      "execution_count": 0,
      "outputs": []
    },
    {
      "cell_type": "markdown",
      "metadata": {
        "id": "Y0GmpAjG3GiH",
        "colab_type": "text"
      },
      "source": [
        "# STEP #3: CREATE TESTING AND TRAINING DATASET"
      ]
    },
    {
      "cell_type": "code",
      "metadata": {
        "id": "0-maV8hb9rYM",
        "colab_type": "code",
        "colab": {}
      },
      "source": [
        "X_train = Temperature_df['Celsius']\n",
        "y_train = Temperature_df['Fahrenheit']\n"
      ],
      "execution_count": 0,
      "outputs": []
    },
    {
      "cell_type": "markdown",
      "metadata": {
        "id": "53qDZFRn3-S1",
        "colab_type": "text"
      },
      "source": [
        "# STEP#4: BUILD AND TRAIN THE MODEL"
      ]
    },
    {
      "cell_type": "code",
      "metadata": {
        "id": "DqIp8uvJ3cGi",
        "colab_type": "code",
        "colab": {}
      },
      "source": [
        "X_train.shape"
      ],
      "execution_count": 0,
      "outputs": []
    },
    {
      "cell_type": "code",
      "metadata": {
        "id": "d4wfApza3cEc",
        "colab_type": "code",
        "colab": {}
      },
      "source": [
        "y_train.shape"
      ],
      "execution_count": 0,
      "outputs": []
    },
    {
      "cell_type": "code",
      "metadata": {
        "id": "Yl6fmPJj3cCX",
        "colab_type": "code",
        "colab": {}
      },
      "source": [
        "model = tf.keras.Sequential()\n",
        "model.add(tf.keras.layers.Dense(units=1, input_shape=[1]))\n",
        "\n"
      ],
      "execution_count": 0,
      "outputs": []
    },
    {
      "cell_type": "code",
      "metadata": {
        "id": "GUd71odB4v-i",
        "colab_type": "code",
        "colab": {}
      },
      "source": [
        "model.summary()"
      ],
      "execution_count": 0,
      "outputs": []
    },
    {
      "cell_type": "code",
      "metadata": {
        "id": "BYmvNpNw5Act",
        "colab_type": "code",
        "colab": {}
      },
      "source": [
        "model.compile(optimizer=tf.keras.optimizers.Adam(0.5), loss='mean_squared_error')"
      ],
      "execution_count": 0,
      "outputs": []
    },
    {
      "cell_type": "code",
      "metadata": {
        "id": "tpia0VBS5Ljw",
        "colab_type": "code",
        "colab": {}
      },
      "source": [
        "epochs_hist = model.fit(X_train, y_train, epochs = 100)"
      ],
      "execution_count": 0,
      "outputs": []
    },
    {
      "cell_type": "markdown",
      "metadata": {
        "id": "-wRQqOeB5Zh5",
        "colab_type": "text"
      },
      "source": [
        "# STEP#5: EVALUATING THE MODEL "
      ]
    },
    {
      "cell_type": "code",
      "metadata": {
        "id": "dfUb63035TJL",
        "colab_type": "code",
        "colab": {}
      },
      "source": [
        "epochs_hist.history.keys()"
      ],
      "execution_count": 0,
      "outputs": []
    },
    {
      "cell_type": "code",
      "metadata": {
        "id": "eXiDop_l5erJ",
        "colab_type": "code",
        "colab": {}
      },
      "source": [
        "plt.plot(epochs_hist.history['loss'])\n",
        "plt.title('Model Loss Progress During Training')\n",
        "plt.xlabel('Epoch')\n",
        "plt.ylabel('Training Loss')\n",
        "plt.legend(['Training Loss'])"
      ],
      "execution_count": 0,
      "outputs": []
    },
    {
      "cell_type": "code",
      "metadata": {
        "id": "yFYpuUJWBn6L",
        "colab_type": "code",
        "colab": {}
      },
      "source": [
        "model.get_weights()"
      ],
      "execution_count": 0,
      "outputs": []
    },
    {
      "cell_type": "code",
      "metadata": {
        "id": "isfjfT735fjD",
        "colab_type": "code",
        "colab": {}
      },
      "source": [
        "# Use the trained model to perform predictions\n",
        "\n",
        "Temp_C = 0\n",
        "Temp_F = model.predict([Temp_C])\n",
        "print('Temperature in degF Using Trained ANN =', Temp_F)\n"
      ],
      "execution_count": 0,
      "outputs": []
    },
    {
      "cell_type": "code",
      "metadata": {
        "id": "mfP_j7LaDjNR",
        "colab_type": "code",
        "colab": {}
      },
      "source": [
        "# Let's confirm this Using the equation: \n",
        "Temp_F = 9/5 * Temp_C + 32\n",
        "print('Temperature in degF Using Equation =', Temp_F)\n"
      ],
      "execution_count": 0,
      "outputs": []
    },
    {
      "cell_type": "markdown",
      "metadata": {
        "id": "27OgYEJu9EFV",
        "colab_type": "text"
      },
      "source": [
        "# EXCELLENT JOB & CONGRATULATIONS! NOW YOU HAVE BUILT YOUR FIRST NEURAL NETWORK MODEL USING TENSORFLOW 2.0 IN GOOGLE COLAB! "
      ]
    },
    {
      "cell_type": "code",
      "metadata": {
        "id": "RwVZg2iYFldq",
        "colab_type": "code",
        "colab": {}
      },
      "source": [
        ""
      ],
      "execution_count": 0,
      "outputs": []
    }
  ]
}